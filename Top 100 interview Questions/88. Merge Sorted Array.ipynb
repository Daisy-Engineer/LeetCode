{
 "cells": [
  {
   "cell_type": "markdown",
   "metadata": {},
   "source": [
    "88. Merge Sorted Array\n",
    "\n",
    "Given two sorted integer arrays nums1 and nums2, merge nums2 into nums1 as one sorted array.\n",
    "\n",
    "Note:\n",
    "\n",
    "The number of elements initialized in nums1 and nums2 are m and n respectively.\n",
    "You may assume that nums1 has enough space (size that is greater or equal to m + n) to hold additional elements from nums2.\n",
    "Example:\n",
    "\n",
    "Input:\n",
    "nums1 = [1,2,3,0,0,0], m = 3\n",
    "nums2 = [2,5,6],       n = 3\n",
    "\n",
    "Output: [1,2,2,3,5,6]"
   ]
  },
  {
   "cell_type": "code",
   "execution_count": null,
   "metadata": {},
   "outputs": [],
   "source": [
    "class Solution:\n",
    "    def merge(self, nums1: List[int], m: int, nums2: List[int], n: int) -> None:\n",
    "        p1 = m -1\n",
    "        p2 = n -1\n",
    "        p = m+n-1\n",
    "        \n",
    "        while p1>=0 and p2>=0:\n",
    "            if nums1[p1] < nums2[p2]:\n",
    "                nums1[p] = nums2[p2]\n",
    "                p2 -=1\n",
    "            else:\n",
    "                nums1[p] = nums1[p1]\n",
    "                p1 -=1\n",
    "            p -=1\n",
    "            \n",
    "        nums1[:(p2+1)] = nums2[:(p2+1)]"
   ]
  }
 ],
 "metadata": {
  "kernelspec": {
   "display_name": "Python 3",
   "language": "python",
   "name": "python3"
  },
  "language_info": {
   "codemirror_mode": {
    "name": "ipython",
    "version": 3
   },
   "file_extension": ".py",
   "mimetype": "text/x-python",
   "name": "python",
   "nbconvert_exporter": "python",
   "pygments_lexer": "ipython3",
   "version": "3.7.3"
  }
 },
 "nbformat": 4,
 "nbformat_minor": 2
}
