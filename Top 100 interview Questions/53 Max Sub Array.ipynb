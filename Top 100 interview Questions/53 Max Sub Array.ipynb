{
 "cells": [
  {
   "cell_type": "markdown",
   "metadata": {},
   "source": [
    "53. Maximum Subarray\n",
    "\n",
    "Given an integer array nums, find the contiguous subarray (containing at least one number)which has the largest sum and return its sum.\n",
    "\n",
    "Example:\n",
    "\n",
    "Input: [-2,1,-3,4,-1,2,1,-5,4],\n",
    "Output: 6\n",
    "Explanation: [4,-1,2,1] has the largest sum = 6.\n",
    "Follow up:\n",
    "\n",
    "If you have figured out the O(n) solution, try coding another solution using the divide and conquer approach, \n",
    "which is more subtle."
   ]
  },
  {
   "cell_type": "code",
   "execution_count": 2,
   "metadata": {},
   "outputs": [],
   "source": [
    "# total max - left min\n",
    "class Solution:\n",
    "    def maxSubArray(self, nums: 'List[int]') -> int:\n",
    "\n",
    "        n = len(nums)\n",
    "        maxsum = nums[0]\n",
    "        minsum = sum0 = 0\n",
    "        for i in range(n):\n",
    "            sum0 += nums[i]\n",
    "            maxsum = max(maxsum, sum0 - minsum)\n",
    "            minsum = min(minsum, sum0)\n",
    "            \n",
    "        return maxsum\n",
    "\n",
    "# p1 = Solution()\n",
    "# p1.maxSubArray([-2,-1])"
   ]
  },
  {
   "cell_type": "code",
   "execution_count": 6,
   "metadata": {},
   "outputs": [
    {
     "data": {
      "text/plain": [
       "-1"
      ]
     },
     "execution_count": 6,
     "metadata": {},
     "output_type": "execute_result"
    }
   ],
   "source": [
    "# divide and conquer method\n",
    "import sys\n",
    "class Solution:\n",
    "    def maxSubArray(self, nums: 'List[int]') -> int:\n",
    "        return self.helper(nums, 0, len(nums) - 1)\n",
    "    def helper(self, nums, l, r):\n",
    "        if l > r:\n",
    "            return -sys.maxsize\n",
    "        mid = (l + r) // 2\n",
    "        left = self.helper(nums, l, mid - 1)\n",
    "        right = self.helper(nums, mid + 1, r)\n",
    "        left_subsum = right_subsum = 0\n",
    "        \n",
    "        sum = 0\n",
    "        for i in range(mid-1,l-1,-1):\n",
    "            sum += nums[i]\n",
    "            left_subsum = max(left_subsum, sum)\n",
    "        \n",
    "        sum = 0\n",
    "        for i in range(mid + 1, r + 1):\n",
    "            sum += nums[i]\n",
    "            right_subsum = max(right_subsum, sum)\n",
    "        \n",
    "        cross_max_sum = left_subsum + right_subsum + nums[mid]\n",
    "        \n",
    "        return max(cross_max_sum, left, right)\n",
    "\n",
    "p1 = Solution()\n",
    "p1.maxSubArray([-2,-1])"
   ]
  },
  {
   "cell_type": "code",
   "execution_count": 1,
   "metadata": {},
   "outputs": [],
   "source": [
    "class Solution:\n",
    "        \n",
    "    def cross_sum(self,nums,left,right,mid):\n",
    "        if left==right:\n",
    "            return nums[left]\n",
    "        \n",
    "        left_subsum = float('-inf')\n",
    "        curr_sum=0\n",
    "        for i in range(mid,left-1,-1):\n",
    "            curr_sum += nums[i]\n",
    "            left_subsum = max(left_subsum, curr_sum)\n",
    "        \n",
    "        right_subsum = float('-inf')\n",
    "        curr_sum=0\n",
    "        for i in range(mid+1,right+1):\n",
    "            curr_sum += nums[i]\n",
    "            right_subsum = max(right_subsum, curr_sum)        \n",
    "        \n",
    "        return left_subsum + right_subsum\n",
    "    \n",
    "    def divide(self,nums,left,right):\n",
    "        if left==right:\n",
    "            return nums[left]\n",
    "        mid =(left+right)//2\n",
    "        left_sum = self.divide(nums,left,mid)\n",
    "        right_sum = self.divide(nums,mid+1,right)\n",
    "        cross_sum = self.cross_sum(nums,left,right,mid)\n",
    "        return max(left_sum, right_sum, cross_sum)\n",
    "        \n",
    "    def maxSubArray(self,nums: 'List[int]') -> 'int':\n",
    "        return self.divide(nums,0,len(nums)-1) "
   ]
  },
  {
   "cell_type": "code",
   "execution_count": 2,
   "metadata": {},
   "outputs": [
    {
     "data": {
      "text/plain": [
       "6"
      ]
     },
     "execution_count": 2,
     "metadata": {},
     "output_type": "execute_result"
    }
   ],
   "source": [
    "p1 = Solution()\n",
    "p1.maxSubArray([-2,1,-3,4,-1,2,1,-5,4])"
   ]
  },
  {
   "cell_type": "code",
   "execution_count": null,
   "metadata": {},
   "outputs": [],
   "source": [
    "import sys\n",
    "class Solution:\n",
    "    def maxSubArray(self, nums: List[int]) -> int:\n",
    "        return self.helper(nums, 0, len(nums) - 1)\n",
    "    def helper(self, nums, l, r):\n",
    "        if l > r:\n",
    "            return -sys.maxsize\n",
    "        mid = (l + r) // 2\n",
    "        left = self.helper(nums, l, mid - 1)\n",
    "        right = self.helper(nums, mid + 1, r)\n",
    "        left_subsum = right_subsum = 0\n",
    "        \n",
    "        sum = 0\n",
    "        for i in range(mid-1,l-1,-1):\n",
    "            sum += nums[i]\n",
    "            left_subsum = max(left_subsum, sum)\n",
    "        \n",
    "        sum = 0\n",
    "        for i in range(mid + 1, r + 1):\n",
    "            sum += nums[i]\n",
    "            right_subsum = max(right_subsum, sum)\n",
    "        \n",
    "        cross_max_sum = left_subsum + right_subsum + nums[mid]\n",
    "        \n",
    "        return max(cross_max_sum, left, right)"
   ]
  }
 ],
 "metadata": {
  "kernelspec": {
   "display_name": "Python 3",
   "language": "python",
   "name": "python3"
  },
  "language_info": {
   "codemirror_mode": {
    "name": "ipython",
    "version": 3
   },
   "file_extension": ".py",
   "mimetype": "text/x-python",
   "name": "python",
   "nbconvert_exporter": "python",
   "pygments_lexer": "ipython3",
   "version": "3.7.6"
  }
 },
 "nbformat": 4,
 "nbformat_minor": 2
}
