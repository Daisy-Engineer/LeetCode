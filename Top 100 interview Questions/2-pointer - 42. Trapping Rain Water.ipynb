{
 "cells": [
  {
   "attachments": {},
   "cell_type": "markdown",
   "metadata": {},
   "source": [
    "42. Trapping Rain Water\n",
    "\n",
    "Given n non-negative integers representing an elevation map where the width of each bar is 1, compute how much water it is able to trap after raining.\n",
    "\n",
    "\n",
    "The above elevation map is represented by array [0,1,0,2,1,0,1,3,2,1,2,1]. In this case, 6 units of rain water (blue section) are being trapped. Thanks Marcos for contributing this image!\n",
    "\n",
    "Example:\n",
    "\n",
    "Input: [0,1,0,2,1,0,1,3,2,1,2,1]\n",
    "Output: 6"
   ]
  },
  {
   "cell_type": "code",
   "execution_count": null,
   "metadata": {},
   "outputs": [],
   "source": [
    "class Solution:\n",
    "    def trap(self, height: List[int]) -> int:\n",
    "        if not height:\n",
    "            return 0\n",
    "        left = 0\n",
    "        right = len(height)-1\n",
    "        left_max = height[left]\n",
    "        right_max = height[right]\n",
    "        water = 0\n",
    "        \n",
    "        while left <= right:\n",
    "            if height[left] < height [right]:\n",
    "                left_max = max(left_max, height[left])\n",
    "                water += (left_max - height[left])\n",
    "                left +=1\n",
    "            else:\n",
    "                right_max = max(right_max, height[right])\n",
    "                water += (right_max - height[right])\n",
    "                right -=1\n",
    "        \n",
    "        return water"
   ]
  }
 ],
 "metadata": {
  "kernelspec": {
   "display_name": "Python 3",
   "language": "python",
   "name": "python3"
  },
  "language_info": {
   "codemirror_mode": {
    "name": "ipython",
    "version": 3
   },
   "file_extension": ".py",
   "mimetype": "text/x-python",
   "name": "python",
   "nbconvert_exporter": "python",
   "pygments_lexer": "ipython3",
   "version": "3.7.3"
  }
 },
 "nbformat": 4,
 "nbformat_minor": 2
}
